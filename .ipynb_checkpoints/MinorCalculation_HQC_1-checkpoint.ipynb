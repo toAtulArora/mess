{
 "cells": [
  {
   "cell_type": "markdown",
   "metadata": {},
   "source": [
    "# Libraries"
   ]
  },
  {
   "cell_type": "code",
   "execution_count": 2,
   "metadata": {},
   "outputs": [],
   "source": [
    "import qutip as qt\n",
    "\n",
    "import numpy as np\n",
    "import itertools as it\n",
    "\n",
    "\n",
    "# def TP(vec1,vec2):\n",
    "#     vec\n",
    "def D(vec):\n",
    "    return vec.T\n",
    "# TP = qt.tensor\n",
    "# def D(obj):\n",
    "#     return obj.dag()\n",
    "norm = np.linalg.norm\n",
    "\n",
    "def trN(ρ):\n",
    "    u,s,vh = np.linalg.svd(ρ,hermitian=True)\n",
    "    return np.sum(s)"
   ]
  },
  {
   "cell_type": "markdown",
   "metadata": {
    "heading_collapsed": true
   },
   "source": [
    "## Learning Ignorable"
   ]
  },
  {
   "cell_type": "code",
   "execution_count": 46,
   "metadata": {
    "hidden": true
   },
   "outputs": [
    {
     "name": "stdout",
     "output_type": "stream",
     "text": [
      "1\n",
      "0\n",
      "1\n",
      "0\n"
     ]
    }
   ],
   "source": [
    "\n",
    "# st = '{0:04b}'\n",
    "# s=st.format(10)\n",
    "# for b in s:\n",
    "#     print(b)"
   ]
  },
  {
   "cell_type": "markdown",
   "metadata": {},
   "source": [
    "## Qubit Setup "
   ]
  },
  {
   "cell_type": "markdown",
   "metadata": {},
   "source": [
    "### Number of qubits"
   ]
  },
  {
   "cell_type": "code",
   "execution_count": 3,
   "metadata": {},
   "outputs": [],
   "source": [
    "n=4 #number of qubits\n",
    "st = '{0:04b}' #change it here too.\n",
    "N=int(2**n) "
   ]
  },
  {
   "cell_type": "markdown",
   "metadata": {},
   "source": [
    "### Binary to Ket"
   ]
  },
  {
   "cell_type": "code",
   "execution_count": 4,
   "metadata": {},
   "outputs": [],
   "source": [
    "#a=np.zeros(5).reshape(5,1)"
   ]
  },
  {
   "cell_type": "code",
   "execution_count": 5,
   "metadata": {},
   "outputs": [],
   "source": [
    "#a"
   ]
  },
  {
   "cell_type": "code",
   "execution_count": 4,
   "metadata": {},
   "outputs": [],
   "source": [
    "def ket(num):\n",
    "    vec = np.zeros(N).reshape(N,1)\n",
    "    vec[num]=1\n",
    "    return vec\n",
    "#     res = None\n",
    "#     for b in st.format(num):\n",
    "#         c=int(b)\n",
    "#         if res is None:\n",
    "#             res = qt.basis(2,c)\n",
    "#             #print(res)\n",
    "#         else:\n",
    "#             #print(c)\n",
    "#             res = TP(res,qt.basis(2,c))\n",
    "# #             print(resNew)\n",
    "# #             print(res)\n",
    "# #             res = TP(resNew,res)\n",
    "#     return res\n",
    "\n",
    "def ket2(num2,num1):\n",
    "    vec = np.zeros(N**2).reshape(N**2,1)\n",
    "    num = num1 + (N*num2)\n",
    "    vec[num]=1\n",
    "    return vec"
   ]
  },
  {
   "cell_type": "code",
   "execution_count": 5,
   "metadata": {},
   "outputs": [],
   "source": [
    "#ket2(0,2).T"
   ]
  },
  {
   "cell_type": "markdown",
   "metadata": {},
   "source": [
    "### Generating all one-to-one functions"
   ]
  },
  {
   "cell_type": "code",
   "execution_count": 6,
   "metadata": {},
   "outputs": [],
   "source": [
    "f = it.permutations(range(0,N))\n",
    "#_N = len(f)\n",
    "\n",
    "# f[0] gives the first function\n",
    "# there are 0:(f_N-1) functions"
   ]
  },
  {
   "cell_type": "code",
   "execution_count": 7,
   "metadata": {
    "scrolled": false
   },
   "outputs": [],
   "source": [
    "# f"
   ]
  },
  {
   "cell_type": "code",
   "execution_count": 8,
   "metadata": {},
   "outputs": [],
   "source": [
    "# print(len(f))\n",
    "# print(f[0][1])"
   ]
  },
  {
   "cell_type": "markdown",
   "metadata": {},
   "source": [
    "### Generating all two-to-one functions"
   ]
  },
  {
   "cell_type": "code",
   "execution_count": 9,
   "metadata": {},
   "outputs": [],
   "source": [
    "# For 2-1 functions, \n",
    "# I first select N/2 elements; call on such set A\n",
    "# Then I consider all permutations of A,A (i.e. A concatenated with itself)\n",
    "# Finally I use set(list(.)) to make sure there are no repeats"
   ]
  },
  {
   "cell_type": "code",
   "execution_count": 10,
   "metadata": {},
   "outputs": [
    {
     "data": {
      "text/plain": [
       "8"
      ]
     },
     "execution_count": 10,
     "metadata": {},
     "output_type": "execute_result"
    }
   ],
   "source": [
    "int(N/2)"
   ]
  },
  {
   "cell_type": "code",
   "execution_count": 11,
   "metadata": {},
   "outputs": [],
   "source": [
    "comb = list(it.combinations(range(0,N),int(N/2)))"
   ]
  },
  {
   "cell_type": "code",
   "execution_count": null,
   "metadata": {},
   "outputs": [],
   "source": [
    "# comb"
   ]
  },
  {
   "cell_type": "code",
   "execution_count": null,
   "metadata": {},
   "outputs": [],
   "source": [
    "g_ = [y + y for y in comb]  # for y in comb] \n",
    "g__ = [list(set(it.permutations(_))) for _ in g_]\n",
    "g = list(set([item for sublist in g__ for item in sublist]))\n",
    "#g = list(set(g))\n",
    "g_N = len(g)"
   ]
  },
  {
   "cell_type": "code",
   "execution_count": null,
   "metadata": {
    "scrolled": false
   },
   "outputs": [],
   "source": [
    "#g"
   ]
  },
  {
   "cell_type": "code",
   "execution_count": null,
   "metadata": {},
   "outputs": [],
   "source": [
    "# Find that list comprehension strange? Here's a simpler example\n",
    "# fruits = [\"apple\", \"banana\", \"cherry\", \"kiwi\", \"mango\"]\n",
    "# newlist = [x for x in fruits if \"a\" in x]\n",
    "# print(newlist)"
   ]
  },
  {
   "cell_type": "markdown",
   "metadata": {},
   "source": [
    "## Creating the density matrices"
   ]
  },
  {
   "cell_type": "markdown",
   "metadata": {},
   "source": [
    "### Density matrix over all one-one functions"
   ]
  },
  {
   "cell_type": "code",
   "execution_count": null,
   "metadata": {},
   "outputs": [],
   "source": [
    "ρ = None\n",
    "k = None\n",
    "#for j in range(0,f_N):\n",
    "for f_ in f:\n",
    "    for i in range(0,N):\n",
    "        k_ = ket2(i,f_[i]) #f[j][i]) #TP(ket(i),ket(f[j][i]))\n",
    "        if k is None:\n",
    "            k = k_\n",
    "        else:\n",
    "            k = k + k_\n",
    "    k = k /np.sqrt(k.T @ k)\n",
    "    \n",
    "    if ρ is None:\n",
    "        ρ = k*D(k)\n",
    "    else:\n",
    "        ρ = ρ + k*D(k)\n",
    "    k = None\n",
    "    \n",
    "ρ = ρ/np.trace(ρ)"
   ]
  },
  {
   "cell_type": "code",
   "execution_count": null,
   "metadata": {},
   "outputs": [],
   "source": [
    "trN(ρ)"
   ]
  },
  {
   "cell_type": "code",
   "execution_count": null,
   "metadata": {},
   "outputs": [],
   "source": [
    "σ = None\n",
    "k = None\n",
    "for j in range(0,g_N):\n",
    "    for i in range(0,N):\n",
    "        k_ = ket2(i,g[j][i]) #TP(ket(i),ket(g[j][i]))\n",
    "        if k is None:\n",
    "            k = k_\n",
    "        else:\n",
    "            k = k + k_\n",
    "    k = k/np.sqrt(k.T @ k) #k.unit()\n",
    "    if σ is None:\n",
    "        σ = k*D(k)\n",
    "    else:\n",
    "        σ = σ + k*D(k)\n",
    "    k = None\n",
    "    \n",
    "σ = σ/np.trace(σ) #.unit()"
   ]
  },
  {
   "cell_type": "code",
   "execution_count": null,
   "metadata": {},
   "outputs": [],
   "source": [
    "trN(σ)"
   ]
  },
  {
   "cell_type": "code",
   "execution_count": null,
   "metadata": {},
   "outputs": [],
   "source": [
    "τ = ρ - σ\n",
    "trN(τ) \n",
    "#.norm()"
   ]
  },
  {
   "cell_type": "code",
   "execution_count": null,
   "metadata": {},
   "outputs": [],
   "source": [
    "#norm(ρ)\n",
    "#trN(ρ)\n",
    "\n",
    "#n=2\n",
    "#0.5\n",
    "\n",
    "#n=3\n",
    "#0.25\n",
    "\n"
   ]
  },
  {
   "cell_type": "markdown",
   "metadata": {},
   "source": [
    "### Rough"
   ]
  },
  {
   "cell_type": "code",
   "execution_count": null,
   "metadata": {
    "scrolled": false
   },
   "outputs": [],
   "source": [
    "# σ = None\n",
    "# for j in range(0,g_N):\n",
    "#     for i in range(0,N):\n",
    "#         k = TP(ket(i),ket(g[j][i]))\n",
    "#         if σ is None:\n",
    "#             σ = k*D(k)\n",
    "#         else:\n",
    "#             σ = σ + k*D(k)\n",
    "#     if(j%(g_N/10)):\n",
    "#         print(σ)"
   ]
  },
  {
   "cell_type": "code",
   "execution_count": null,
   "metadata": {},
   "outputs": [],
   "source": [
    "#σ = σ.unit()"
   ]
  },
  {
   "cell_type": "code",
   "execution_count": null,
   "metadata": {},
   "outputs": [],
   "source": [
    "# σ"
   ]
  },
  {
   "cell_type": "code",
   "execution_count": null,
   "metadata": {},
   "outputs": [],
   "source": [
    "#τ = σ - ρ"
   ]
  },
  {
   "cell_type": "code",
   "execution_count": null,
   "metadata": {},
   "outputs": [],
   "source": [
    "#τ.norm()"
   ]
  },
  {
   "cell_type": "code",
   "execution_count": null,
   "metadata": {},
   "outputs": [],
   "source": []
  }
 ],
 "metadata": {
  "kernelspec": {
   "display_name": "Python 3.7.5 64-bit ('quantInfo': conda)",
   "language": "python",
   "name": "python37564bitquantinfoconda0e2532d3dbe24dff8ef3b21f40b69e3b"
  },
  "language_info": {
   "codemirror_mode": {
    "name": "ipython",
    "version": 3
   },
   "file_extension": ".py",
   "mimetype": "text/x-python",
   "name": "python",
   "nbconvert_exporter": "python",
   "pygments_lexer": "ipython3",
   "version": "3.6.10"
  },
  "toc": {
   "base_numbering": 1,
   "nav_menu": {},
   "number_sections": true,
   "sideBar": true,
   "skip_h1_title": false,
   "title_cell": "Table of Contents",
   "title_sidebar": "Contents",
   "toc_cell": false,
   "toc_position": {},
   "toc_section_display": true,
   "toc_window_display": false
  }
 },
 "nbformat": 4,
 "nbformat_minor": 4
}
