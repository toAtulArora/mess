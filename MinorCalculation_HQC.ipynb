{
 "cells": [
  {
   "cell_type": "markdown",
   "metadata": {},
   "source": [
    "# Libraries"
   ]
  },
  {
   "cell_type": "code",
   "execution_count": 203,
   "metadata": {},
   "outputs": [],
   "source": [
    "import qutip as qt\n",
    "\n",
    "import numpy as np\n",
    "import itertools as it\n",
    "\n",
    "TP = qt.tensor\n",
    "def D(obj):\n",
    "    return obj.dag()"
   ]
  },
  {
   "cell_type": "markdown",
   "metadata": {
    "heading_collapsed": true
   },
   "source": [
    "## Learning Ignorable"
   ]
  },
  {
   "cell_type": "code",
   "execution_count": 46,
   "metadata": {
    "hidden": true
   },
   "outputs": [
    {
     "name": "stdout",
     "output_type": "stream",
     "text": [
      "1\n",
      "0\n",
      "1\n",
      "0\n"
     ]
    }
   ],
   "source": [
    "\n",
    "# st = '{0:04b}'\n",
    "# s=st.format(10)\n",
    "# for b in s:\n",
    "#     print(b)"
   ]
  },
  {
   "cell_type": "markdown",
   "metadata": {},
   "source": [
    "## Qubit Setup "
   ]
  },
  {
   "cell_type": "markdown",
   "metadata": {},
   "source": [
    "### Number of qubits"
   ]
  },
  {
   "cell_type": "code",
   "execution_count": 273,
   "metadata": {},
   "outputs": [],
   "source": [
    "n=3 #number of qubits\n",
    "st = '{0:03b}' #change it here too.\n",
    "N=int(2**n) "
   ]
  },
  {
   "cell_type": "markdown",
   "metadata": {},
   "source": [
    "### Binary to Ket"
   ]
  },
  {
   "cell_type": "code",
   "execution_count": 274,
   "metadata": {},
   "outputs": [],
   "source": [
    "def ket(num):\n",
    "    res = None\n",
    "    for b in st.format(num):\n",
    "        c=int(b)\n",
    "        if res is None:\n",
    "            res = qt.basis(2,c)\n",
    "            #print(res)\n",
    "        else:\n",
    "            #print(c)\n",
    "            res = TP(res,qt.basis(2,c))\n",
    "#             print(resNew)\n",
    "#             print(res)\n",
    "#             res = TP(resNew,res)\n",
    "    return res"
   ]
  },
  {
   "cell_type": "code",
   "execution_count": 275,
   "metadata": {},
   "outputs": [],
   "source": [
    "# ket(3)"
   ]
  },
  {
   "cell_type": "markdown",
   "metadata": {},
   "source": [
    "### Generating all one-to-one functions"
   ]
  },
  {
   "cell_type": "code",
   "execution_count": 276,
   "metadata": {},
   "outputs": [],
   "source": [
    "f = list(set(list(it.permutations(range(0,N)))))\n",
    "f_N = len(f)\n",
    "\n",
    "# f[0] gives the first function\n",
    "# there are 0:(f_N-1) functions"
   ]
  },
  {
   "cell_type": "code",
   "execution_count": 277,
   "metadata": {
    "scrolled": false
   },
   "outputs": [],
   "source": [
    "# f"
   ]
  },
  {
   "cell_type": "code",
   "execution_count": 278,
   "metadata": {},
   "outputs": [],
   "source": [
    "# print(len(f))\n",
    "# print(f[0][1])"
   ]
  },
  {
   "cell_type": "markdown",
   "metadata": {},
   "source": [
    "### Generating all two-to-one functions"
   ]
  },
  {
   "cell_type": "code",
   "execution_count": 279,
   "metadata": {},
   "outputs": [],
   "source": [
    "# For 2-1 functions, \n",
    "# I first select N/2 elements; call on such set A\n",
    "# Then I consider all permutations of A,A (i.e. A concatenated with itself)\n",
    "# Finally I use set(list(.)) to make sure there are no repeats"
   ]
  },
  {
   "cell_type": "code",
   "execution_count": 280,
   "metadata": {},
   "outputs": [
    {
     "data": {
      "text/plain": [
       "4"
      ]
     },
     "execution_count": 280,
     "metadata": {},
     "output_type": "execute_result"
    }
   ],
   "source": [
    "int(N/2)"
   ]
  },
  {
   "cell_type": "code",
   "execution_count": 281,
   "metadata": {},
   "outputs": [],
   "source": [
    "comb = list(it.combinations(range(0,N),int(N/2)))"
   ]
  },
  {
   "cell_type": "code",
   "execution_count": 296,
   "metadata": {},
   "outputs": [],
   "source": [
    "# comb"
   ]
  },
  {
   "cell_type": "code",
   "execution_count": 283,
   "metadata": {},
   "outputs": [],
   "source": [
    "g_ = [y + y for y in comb]  # for y in comb] \n",
    "g__ = [list(set(it.permutations(_))) for _ in g_]\n",
    "g = list(set([item for sublist in g__ for item in sublist]))\n",
    "#g = list(set(g))\n",
    "g_N = len(g)"
   ]
  },
  {
   "cell_type": "code",
   "execution_count": 284,
   "metadata": {
    "scrolled": false
   },
   "outputs": [],
   "source": [
    "#g"
   ]
  },
  {
   "cell_type": "code",
   "execution_count": 285,
   "metadata": {},
   "outputs": [],
   "source": [
    "# Find that list comprehension strange? Here's a simpler example\n",
    "# fruits = [\"apple\", \"banana\", \"cherry\", \"kiwi\", \"mango\"]\n",
    "# newlist = [x for x in fruits if \"a\" in x]\n",
    "# print(newlist)"
   ]
  },
  {
   "cell_type": "markdown",
   "metadata": {},
   "source": [
    "## Creating the density matrices"
   ]
  },
  {
   "cell_type": "markdown",
   "metadata": {},
   "source": [
    "### Density matrix over all one-one functions"
   ]
  },
  {
   "cell_type": "code",
   "execution_count": 286,
   "metadata": {},
   "outputs": [],
   "source": [
    "ρ = None\n",
    "k = None\n",
    "for j in range(0,f_N):\n",
    "    for i in range(0,N):\n",
    "        k_ = TP(ket(i),ket(f[j][i]))\n",
    "        if k is None:\n",
    "            k = k_\n",
    "        else:\n",
    "            k = k + k_\n",
    "    k = k.unit()\n",
    "    if ρ is None:\n",
    "        ρ = k*D(k)\n",
    "    else:\n",
    "        ρ = ρ + k*D(k)\n",
    "    k = None\n",
    "    \n",
    "ρ = ρ.unit() #returns normalised density matrices; ρ.tr() returns the trace"
   ]
  },
  {
   "cell_type": "code",
   "execution_count": 287,
   "metadata": {},
   "outputs": [
    {
     "data": {
      "text/latex": [
       "Quantum object: dims = [[2, 2, 2, 2, 2, 2], [2, 2, 2, 2, 2, 2]], shape = (64, 64), type = oper, isherm = True\\begin{equation*}\\left(\\begin{array}{*{11}c}0.016 & 0.0 & 0.0 & 0.0 & 0.0 & \\cdots & 0.002 & 0.002 & 0.002 & 0.002 & 0.002\\\\0.0 & 0.016 & 0.0 & 0.0 & 0.0 & \\cdots & 0.002 & 0.002 & 0.002 & 0.002 & 0.002\\\\0.0 & 0.0 & 0.016 & 0.0 & 0.0 & \\cdots & 0.002 & 0.002 & 0.002 & 0.002 & 0.002\\\\0.0 & 0.0 & 0.0 & 0.016 & 0.0 & \\cdots & 0.0 & 0.002 & 0.002 & 0.002 & 0.002\\\\0.0 & 0.0 & 0.0 & 0.0 & 0.016 & \\cdots & 0.002 & 0.0 & 0.002 & 0.002 & 0.002\\\\\\vdots & \\vdots & \\vdots & \\vdots & \\vdots & \\ddots & \\vdots & \\vdots & \\vdots & \\vdots & \\vdots\\\\0.002 & 0.002 & 0.002 & 0.0 & 0.002 & \\cdots & 0.016 & 0.0 & 0.0 & 0.0 & 0.0\\\\0.002 & 0.002 & 0.002 & 0.002 & 0.0 & \\cdots & 0.0 & 0.016 & 0.0 & 0.0 & 0.0\\\\0.002 & 0.002 & 0.002 & 0.002 & 0.002 & \\cdots & 0.0 & 0.0 & 0.016 & 0.0 & 0.0\\\\0.002 & 0.002 & 0.002 & 0.002 & 0.002 & \\cdots & 0.0 & 0.0 & 0.0 & 0.016 & 0.0\\\\0.002 & 0.002 & 0.002 & 0.002 & 0.002 & \\cdots & 0.0 & 0.0 & 0.0 & 0.0 & 0.016\\\\\\end{array}\\right)\\end{equation*}"
      ],
      "text/plain": [
       "Quantum object: dims = [[2, 2, 2, 2, 2, 2], [2, 2, 2, 2, 2, 2]], shape = (64, 64), type = oper, isherm = True\n",
       "Qobj data =\n",
       "[[0.015625   0.         0.         ... 0.00223214 0.00223214 0.00223214]\n",
       " [0.         0.015625   0.         ... 0.00223214 0.00223214 0.00223214]\n",
       " [0.         0.         0.015625   ... 0.00223214 0.00223214 0.00223214]\n",
       " ...\n",
       " [0.00223214 0.00223214 0.00223214 ... 0.015625   0.         0.        ]\n",
       " [0.00223214 0.00223214 0.00223214 ... 0.         0.015625   0.        ]\n",
       " [0.00223214 0.00223214 0.00223214 ... 0.         0.         0.015625  ]]"
      ]
     },
     "execution_count": 287,
     "metadata": {},
     "output_type": "execute_result"
    }
   ],
   "source": [
    "ρ"
   ]
  },
  {
   "cell_type": "code",
   "execution_count": 288,
   "metadata": {},
   "outputs": [],
   "source": [
    "σ = None\n",
    "k = None\n",
    "for j in range(0,g_N):\n",
    "    for i in range(0,N):\n",
    "        k_ = TP(ket(i),ket(g[j][i]))\n",
    "        if k is None:\n",
    "            k = k_\n",
    "        else:\n",
    "            k = k + k_\n",
    "    k = k.unit()\n",
    "    if σ is None:\n",
    "        σ = k*D(k)\n",
    "    else:\n",
    "        σ = σ + k*D(k)\n",
    "    k = None\n",
    "    \n",
    "σ = σ.unit()"
   ]
  },
  {
   "cell_type": "code",
   "execution_count": 289,
   "metadata": {},
   "outputs": [
    {
     "data": {
      "text/latex": [
       "Quantum object: dims = [[2, 2, 2, 2, 2, 2], [2, 2, 2, 2, 2, 2]], shape = (64, 64), type = oper, isherm = True\\begin{equation*}\\left(\\begin{array}{*{11}c}0.016 & 0.0 & 0.0 & 0.0 & 0.0 & \\cdots & 0.002 & 0.002 & 0.002 & 0.002 & 0.002\\\\0.0 & 0.016 & 0.0 & 0.0 & 0.0 & \\cdots & 0.002 & 0.002 & 0.002 & 0.002 & 0.002\\\\0.0 & 0.0 & 0.016 & 0.0 & 0.0 & \\cdots & 0.002 & 0.002 & 0.002 & 0.002 & 0.002\\\\0.0 & 0.0 & 0.0 & 0.016 & 0.0 & \\cdots & 0.002 & 0.002 & 0.002 & 0.002 & 0.002\\\\0.0 & 0.0 & 0.0 & 0.0 & 0.016 & \\cdots & 0.002 & 0.002 & 0.002 & 0.002 & 0.002\\\\\\vdots & \\vdots & \\vdots & \\vdots & \\vdots & \\ddots & \\vdots & \\vdots & \\vdots & \\vdots & \\vdots\\\\0.002 & 0.002 & 0.002 & 0.002 & 0.002 & \\cdots & 0.016 & 0.0 & 0.0 & 0.0 & 0.0\\\\0.002 & 0.002 & 0.002 & 0.002 & 0.002 & \\cdots & 0.0 & 0.016 & 0.0 & 0.0 & 0.0\\\\0.002 & 0.002 & 0.002 & 0.002 & 0.002 & \\cdots & 0.0 & 0.0 & 0.016 & 0.0 & 0.0\\\\0.002 & 0.002 & 0.002 & 0.002 & 0.002 & \\cdots & 0.0 & 0.0 & 0.0 & 0.016 & 0.0\\\\0.002 & 0.002 & 0.002 & 0.002 & 0.002 & \\cdots & 0.0 & 0.0 & 0.0 & 0.0 & 0.016\\\\\\end{array}\\right)\\end{equation*}"
      ],
      "text/plain": [
       "Quantum object: dims = [[2, 2, 2, 2, 2, 2], [2, 2, 2, 2, 2, 2]], shape = (64, 64), type = oper, isherm = True\n",
       "Qobj data =\n",
       "[[0.015625   0.         0.         ... 0.00191327 0.00191327 0.00191327]\n",
       " [0.         0.015625   0.         ... 0.00191327 0.00191327 0.00191327]\n",
       " [0.         0.         0.015625   ... 0.00191327 0.00191327 0.00191327]\n",
       " ...\n",
       " [0.00191327 0.00191327 0.00191327 ... 0.015625   0.         0.        ]\n",
       " [0.00191327 0.00191327 0.00191327 ... 0.         0.015625   0.        ]\n",
       " [0.00191327 0.00191327 0.00191327 ... 0.         0.         0.015625  ]]"
      ]
     },
     "execution_count": 289,
     "metadata": {},
     "output_type": "execute_result"
    }
   ],
   "source": [
    "σ "
   ]
  },
  {
   "cell_type": "code",
   "execution_count": 290,
   "metadata": {},
   "outputs": [
    {
     "data": {
      "text/plain": [
       "0.24999999647655557"
      ]
     },
     "execution_count": 290,
     "metadata": {},
     "output_type": "execute_result"
    }
   ],
   "source": [
    "τ = ρ - σ\n",
    "τ.norm()"
   ]
  },
  {
   "cell_type": "markdown",
   "metadata": {
    "heading_collapsed": true
   },
   "source": [
    "### Rough"
   ]
  },
  {
   "cell_type": "code",
   "execution_count": 291,
   "metadata": {
    "hidden": true,
    "scrolled": false
   },
   "outputs": [],
   "source": [
    "# σ = None\n",
    "# for j in range(0,g_N):\n",
    "#     for i in range(0,N):\n",
    "#         k = TP(ket(i),ket(g[j][i]))\n",
    "#         if σ is None:\n",
    "#             σ = k*D(k)\n",
    "#         else:\n",
    "#             σ = σ + k*D(k)\n",
    "#     if(j%(g_N/10)):\n",
    "#         print(σ)"
   ]
  },
  {
   "cell_type": "code",
   "execution_count": 292,
   "metadata": {
    "hidden": true
   },
   "outputs": [],
   "source": [
    "σ = σ.unit()"
   ]
  },
  {
   "cell_type": "code",
   "execution_count": 293,
   "metadata": {
    "hidden": true
   },
   "outputs": [],
   "source": [
    "# σ"
   ]
  },
  {
   "cell_type": "code",
   "execution_count": 294,
   "metadata": {
    "hidden": true
   },
   "outputs": [],
   "source": [
    "τ = σ - ρ"
   ]
  },
  {
   "cell_type": "code",
   "execution_count": 295,
   "metadata": {
    "hidden": true
   },
   "outputs": [
    {
     "data": {
      "text/plain": [
       "0.2499999961407414"
      ]
     },
     "execution_count": 295,
     "metadata": {},
     "output_type": "execute_result"
    }
   ],
   "source": [
    "τ.norm()"
   ]
  },
  {
   "cell_type": "code",
   "execution_count": null,
   "metadata": {
    "hidden": true
   },
   "outputs": [],
   "source": []
  }
 ],
 "metadata": {
  "kernelspec": {
   "display_name": "Python 3.7.5 64-bit ('quantInfo': conda)",
   "language": "python",
   "name": "python37564bitquantinfoconda0e2532d3dbe24dff8ef3b21f40b69e3b"
  },
  "language_info": {
   "codemirror_mode": {
    "name": "ipython",
    "version": 3
   },
   "file_extension": ".py",
   "mimetype": "text/x-python",
   "name": "python",
   "nbconvert_exporter": "python",
   "pygments_lexer": "ipython3",
   "version": "3.6.10"
  },
  "toc": {
   "base_numbering": 1,
   "nav_menu": {},
   "number_sections": true,
   "sideBar": true,
   "skip_h1_title": false,
   "title_cell": "Table of Contents",
   "title_sidebar": "Contents",
   "toc_cell": false,
   "toc_position": {},
   "toc_section_display": true,
   "toc_window_display": false
  }
 },
 "nbformat": 4,
 "nbformat_minor": 4
}
